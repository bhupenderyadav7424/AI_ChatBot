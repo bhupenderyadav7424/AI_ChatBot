{
 "cells": [
  {
   "cell_type": "code",
   "execution_count": 1,
   "id": "63c04e81-7deb-44b3-87ec-656acafdbbb2",
   "metadata": {},
   "outputs": [
    {
     "name": "stdout",
     "output_type": "stream",
     "text": [
      "{\n",
      "  \"choices\": [\n",
      "    {\n",
      "      \"finish_reason\": \"stop\",\n",
      "      \"index\": 0,\n",
      "      \"message\": {\n",
      "        \"content\": \"The 2020 World Series was played at a neutral site due to the COVID-19 pandemic. The series was played at Globe Life Field in Arlington, Texas.\",\n",
      "        \"role\": \"assistant\"\n",
      "      }\n",
      "    }\n",
      "  ],\n",
      "  \"created\": 1677730003,\n",
      "  \"id\": \"chatcmpl-6pUVHp1WFbYlwmhh4HLB9a2tSLFNL\",\n",
      "  \"model\": \"gpt-3.5-turbo-0301\",\n",
      "  \"object\": \"chat.completion\",\n",
      "  \"usage\": {\n",
      "    \"completion_tokens\": 35,\n",
      "    \"prompt_tokens\": 56,\n",
      "    \"total_tokens\": 91\n",
      "  }\n",
      "}\n",
      "The 2020 World Series was played at a neutral site due to the COVID-19 pandemic. The series was played at Globe Life Field in Arlington, Texas.\n"
     ]
    }
   ],
   "source": [
    "import openai\n",
    "import os\n",
    "openai.api_key = os.getenv(\"OPENAI_API_KEY\") \n",
    "openai.organization = os.getenv(\"OPENAI_ORGANIZATION\") \n",
    "\n",
    "response = openai.ChatCompletion.create(\n",
    "  model=\"gpt-3.5-turbo\",\n",
    "  messages=[\n",
    "        {\"role\": \"system\", \"content\": \"You are a helpful assistant.\"},\n",
    "        {\"role\": \"user\", \"content\": \"Who won the world series in 2020?\"},\n",
    "        {\"role\": \"assistant\", \"content\": \"The Los Angeles Dodgers won the World Series in 2020.\"},\n",
    "        {\"role\": \"user\", \"content\": \"Where was it played?\"}\n",
    "    ]\n",
    ")\n",
    "\n",
    "print(response)\n",
    "\n",
    "print(response['choices'][0]['message']['content'])"
   ]
  },
  {
   "cell_type": "code",
   "execution_count": null,
   "id": "71fd5fcf-7e9c-419d-97e0-df7de46aaa4c",
   "metadata": {},
   "outputs": [],
   "source": [
    "import os\n",
    "import openai\n",
    "openai.api_key = os.getenv(\"OPENAI_API_KEY\") \n",
    "openai.organization = os.getenv(\"OPENAI_ORGANIZATION\") \n",
    "\n",
    "conversation=[{\"role\": \"system\", \"content\": \"You are a helpful assistant.\"}]\n",
    "\n",
    "while(True):\n",
    "    user_input = input(\"\")     \n",
    "    conversation.append({\"role\": \"user\", \"content\": user_input})\n",
    "\n",
    "    response = openai.ChatCompletion.create(\n",
    "        model=\"gpt-3.5-turbo\",\n",
    "        messages = conversation\n",
    "    )\n",
    "\n",
    "    conversation.append({\"role\": \"assistant\", \"content\": response['choices'][0]['message']['content']})\n",
    "    print(\"\\n\" + response['choices'][0]['message']['content'] + \"\\n\")"
   ]
  },
  {
   "cell_type": "code",
   "execution_count": null,
   "id": "b7ccd77a-49fe-44a2-90e9-568b5e4b66f5",
   "metadata": {},
   "outputs": [],
   "source": [
    "import os\n",
    "import openai\n",
    "openai.api_key = os.getenv(\"OPENAI_API_KEY\") \n",
    "openai.organization = os.getenv(\"OPENAI_ORGANIZATION\") \n",
    "\n",
    "conversation=[{\"role\": \"system\", \"content\": \"You are a helpful assistant.\"}]\n",
    "\n",
    "while(True):\n",
    "    user_input = input(\"\")     \n",
    "    conversation.append({\"role\": \"user\", \"content\": user_input})\n",
    "\n",
    "    response = openai.ChatCompletion.create(\n",
    "        model=\"gpt-3.5-turbo\",\n",
    "        messages = conversation,\n",
    "        temperature=2,\n",
    "        max_tokens=250,\n",
    "        top_p=0.9\n",
    "    )\n",
    "\n",
    "    conversation.append({\"role\": \"assistant\", \"content\": response['choices'][0]['message']['content']})\n",
    "    print(\"\\n\" + response['choices'][0]['message']['content'] + \"\\n\")"
   ]
  }
 ],
 "metadata": {
  "kernelspec": {
   "display_name": "Python 3 (ipykernel)",
   "language": "python",
   "name": "python3"
  },
  "language_info": {
   "codemirror_mode": {
    "name": "ipython",
    "version": 3
   },
   "file_extension": ".py",
   "mimetype": "text/x-python",
   "name": "python",
   "nbconvert_exporter": "python",
   "pygments_lexer": "ipython3",
   "version": "3.11.1"
  }
 },
 "nbformat": 4,
 "nbformat_minor": 5
}
